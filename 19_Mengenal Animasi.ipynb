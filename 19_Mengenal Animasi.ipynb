{
 "cells": [
  {
   "cell_type": "markdown",
   "id": "5dd7a55e-fd78-4959-b012-2aa63ff0aa52",
   "metadata": {},
   "source": [
    "# **Matplotlib Week 11**"
   ]
  },
  {
   "cell_type": "markdown",
   "id": "39332f7c-4155-4189-beab-c47ae63d17ed",
   "metadata": {},
   "source": [
    "# **Mengenal Animasi**"
   ]
  },
  {
   "cell_type": "markdown",
   "id": "707e2b5e-829d-4fd6-be73-a99e3d7abf4b",
   "metadata": {},
   "source": [
    "Dalam sesi ini kita akan mempelajari cara untuk membuat animasi dengan Matplotlib"
   ]
  },
  {
   "cell_type": "markdown",
   "id": "efbd3a35-7f2d-4ec5-ad43-efe4262927a1",
   "metadata": {},
   "source": [
    "**Import Modules**"
   ]
  },
  {
   "cell_type": "code",
   "execution_count": 5,
   "id": "77adbebc-d9ae-4bcb-8ca4-f8ebaf82aa75",
   "metadata": {},
   "outputs": [],
   "source": [
    "%matplotlib inline"
   ]
  },
  {
   "cell_type": "code",
   "execution_count": 7,
   "id": "4ff13837-fc9c-427a-83b9-efac5fa37b14",
   "metadata": {},
   "outputs": [
    {
     "name": "stdout",
     "output_type": "stream",
     "text": [
      "3.9.2\n",
      "1.26.4\n"
     ]
    }
   ],
   "source": [
    "import matplotlib\n",
    "import matplotlib.pyplot as plt\n",
    "from matplotlib.animation import FuncAnimation\n",
    "from IPython import display\n",
    "import numpy as np\n",
    "\n",
    "print(matplotlib.__version__)\n",
    "print(np.__version__)"
   ]
  },
  {
   "cell_type": "markdown",
   "id": "5ae14386-7cf0-44d2-a594-963a1c6b78ca",
   "metadata": {},
   "source": [
    "**Review Figure**"
   ]
  },
  {
   "cell_type": "markdown",
   "id": "05e53626-eeac-41c8-b881-4c5669212808",
   "metadata": {},
   "source": [
    "- Membuat object figure dengan memanfaatkan plt.figure()\n",
    "- Menentukan limit batas sumbu x dari 0 sampai 8 dan sumbu y dari -4 sampai 2"
   ]
  },
  {
   "cell_type": "code",
   "execution_count": 11,
   "id": "5375cfc4-7928-41fb-830a-59ca5a2b575d",
   "metadata": {},
   "outputs": [
    {
     "name": "stdout",
     "output_type": "stream",
     "text": [
      "[<matplotlib.lines.Line2D object at 0x0000021BF2F944A0>]\n"
     ]
    }
   ],
   "source": [
    "fig = plt.figure()\n",
    "plt.xlim((0, 8))\n",
    "plt.ylim((-4, 2))\n",
    "\n",
    "print(plt.plot([]))"
   ]
  },
  {
   "cell_type": "markdown",
   "id": "00d0f94b-d2c6-46fe-b3d2-326a7e3e7b11",
   "metadata": {},
   "source": [
    "**Animasi pada Matplotlib**"
   ]
  },
  {
   "cell_type": "markdown",
   "id": "a8eaa9c9-189b-48ef-ac13-8479657870c3",
   "metadata": {},
   "source": [
    "- Untuk mengendalikan garis pada objek matplotlib.lines.Line2D kita dapat mengakes index ke-0 nya\n",
    "- Fungsi line.set_date() digunakan untuk memanggil garis yang telah ditentukan sebelumnya\n",
    "- Untuk menghasilkan animasi kita dapat memanggil fungsi FuncAnimation()\n",
    "- Parameter frames pada fungsi tersebut digunakan untuk mengatur frame yang dihasilkan setiap detiknya\n",
    "- Seperti yang kita ketahui semakin tinggi FPS (frame per second) semakin halus animasi yang dihasilkan\n",
    "- Parameter interval digunakan untuk mengatur kecepatan animasi\n",
    "- Semakin kecil semakin cepat animasi yang dihasilkan\n",
    "- Fungsi anim.to_html5_video() digunakan untuk mengkonversi animasi ke html5 video\n",
    "- Fungsi display.HTML(video) digunakan untuk html5 video ke halam web broswer kita Untuk melihat hasilnya, pastikan ffmpeg sudah terinstal"
   ]
  },
  {
   "cell_type": "code",
   "execution_count": null,
   "id": "b8ec4528-c4ba-4019-9b7b-359fd1590fa8",
   "metadata": {},
   "outputs": [],
   "source": [
    "fig = plt.figure()\n",
    "plt.xlim((0, 4))\n",
    "plt.ylim((-2, 2))\n",
    "\n",
    "line = plt.plot([])[0]\n",
    "\n",
    "#Fungsi animasi\n",
    "def animate(i):\n",
    "    #Membuat nilai-nilai x\n",
    "    x = np.linspace(0, 4, 1000)\n",
    "    \n",
    "    #Membuat nilai-nilai y menggunakan gelombang sinus dengan fase yang berubah\n",
    "    y = np.sin(2 * np.pi * (x - 0.01 * i))\n",
    "    \n",
    "    #Memperbarui data dalam plot garis\n",
    "    line.set_data(x, y)\n",
    "    \n",
    "    #Mengembalikan plot garis yang diperbarui (tupel diperlukan)\n",
    "    return line,\n",
    "\n",
    "#Membuat animasi dengan 200 frame dan interval 50 milidetik\n",
    "anim = FuncAnimation(fig, animate, frames=200, interval=50)\n",
    "\n",
    "#Mengonversi animasi menjadi video HTML5\n",
    "video = anim.to_html5_video()\n",
    "\n",
    "#Membuat elemen tampilan HTML\n",
    "html = display.HTML(video)\n",
    "\n",
    "#Menampilkan elemen HTML\n",
    "display.display(html)\n",
    "\n",
    "plt.close()"
   ]
  }
 ],
 "metadata": {
  "kernelspec": {
   "display_name": "Python 3 (ipykernel)",
   "language": "python",
   "name": "python3"
  },
  "language_info": {
   "codemirror_mode": {
    "name": "ipython",
    "version": 3
   },
   "file_extension": ".py",
   "mimetype": "text/x-python",
   "name": "python",
   "nbconvert_exporter": "python",
   "pygments_lexer": "ipython3",
   "version": "3.12.7"
  }
 },
 "nbformat": 4,
 "nbformat_minor": 5
}
