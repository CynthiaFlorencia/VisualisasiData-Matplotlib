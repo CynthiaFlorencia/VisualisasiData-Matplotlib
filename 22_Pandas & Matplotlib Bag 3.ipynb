{
 "cells": [
  {
   "cell_type": "markdown",
   "id": "30d64027-ecb0-4abf-866e-f4babd82ccab",
   "metadata": {},
   "source": [
    "# **Matplotlib Week 14**"
   ]
  },
  {
   "cell_type": "markdown",
   "id": "f94a0538-0d47-4727-bae7-33a2e789f372",
   "metadata": {},
   "source": [
    "## **Pandas & Matplotlib Bagian 3**"
   ]
  },
  {
   "cell_type": "markdown",
   "id": "35f577ba-9881-459c-801e-34c1092d7dbb",
   "metadata": {},
   "source": [
    "**Visualisasi Data yang tersimpan pada Pandas Data Frame (bagian 3)**"
   ]
  },
  {
   "cell_type": "markdown",
   "id": "125d33cf-a2f4-4033-be25-8a91b6e9f76f",
   "metadata": {},
   "source": [
    "Dalam sesi ini kita akan mempelajari cara untuk melakukan visualisasi data yang tersimpan pada Pandas Data Frame dengan Matplotlib"
   ]
  },
  {
   "cell_type": "markdown",
   "id": "c25fd61e-516d-433b-9465-045aee7d04c1",
   "metadata": {},
   "source": [
    "**Import Modules**"
   ]
  },
  {
   "cell_type": "code",
   "execution_count": 6,
   "id": "e4094dd5-efcf-4139-80c9-ec1e5f798639",
   "metadata": {},
   "outputs": [],
   "source": [
    "%matplotlib inline"
   ]
  },
  {
   "cell_type": "code",
   "execution_count": 8,
   "id": "9a81bf28-c281-4fcb-a689-50f9bb64cde9",
   "metadata": {},
   "outputs": [
    {
     "name": "stdout",
     "output_type": "stream",
     "text": [
      "3.9.2\n",
      "2.2.2\n"
     ]
    }
   ],
   "source": [
    "import matplotlib\n",
    "import matplotlib.pyplot as plt\n",
    "import pandas as pd\n",
    "\n",
    "print(matplotlib.__version__)\n",
    "print(pd.__version__)"
   ]
  },
  {
   "cell_type": "markdown",
   "id": "528d29ea-6566-4806-b80f-4a5d6f41e4a7",
   "metadata": {},
   "source": [
    "**Sample Dataset**"
   ]
  },
  {
   "cell_type": "code",
   "execution_count": null,
   "id": "bd84374b-f096-4c28-a0b0-4c9fa6574f20",
   "metadata": {},
   "outputs": [],
   "source": [
    "df = pd.read_csv('./dataset/2020.csv')\n",
    "df.head()"
   ]
  },
  {
   "cell_type": "code",
   "execution_count": null,
   "id": "5167ee8e-8154-490f-a47c-f6c9782bca61",
   "metadata": {},
   "outputs": [],
   "source": [
    "df.rename(columns={\n",
    "    'Country name': 'Country',\n",
    "    'Perceptions of corruption': 'Corruption',\n",
    "    'Freedom to make life choices': 'Freedom'\n",
    "},\n",
    "          inplace=True)\n",
    "df.columns"
   ]
  },
  {
   "cell_type": "markdown",
   "id": "2d23d75a-22a7-4720-8e72-8126d6a315ca",
   "metadata": {},
   "source": [
    "**Bar Plot**"
   ]
  },
  {
   "cell_type": "code",
   "execution_count": null,
   "id": "58ea3a00-334f-43f4-8ad4-92951d89f646",
   "metadata": {},
   "outputs": [],
   "source": [
    "df[:5].plot(x='Country',\n",
    "            y=['Corruption', 'Freedom', 'Generosity', 'Social support'],\n",
    "            kind='bar')\n",
    "\n",
    "\n",
    "plt.title('Contoh Bar Plot')\n",
    "plt.ylabel('Nilai')\n",
    "plt.show()"
   ]
  },
  {
   "cell_type": "markdown",
   "id": "c02b26d2-1061-4e9b-9176-94f3933c5b0e",
   "metadata": {},
   "source": [
    "**Line Plot**"
   ]
  },
  {
   "cell_type": "code",
   "execution_count": null,
   "id": "3805cb0c-22ba-4409-bbe2-9d61ffb16e73",
   "metadata": {},
   "outputs": [],
   "source": [
    "df[:5].plot(x='Country',\n",
    "            y=['Corruption', 'Freedom', 'Generosity', 'Social support'],\n",
    "            kind='line')\n",
    "\n",
    "plt.title('Contoh Line Plot')\n",
    "plt.ylabel('Nilai')\n",
    "plt.show()"
   ]
  },
  {
   "cell_type": "markdown",
   "id": "e0bcc7b5-12dc-40c6-839b-8d094beef647",
   "metadata": {},
   "source": [
    "**Box Plot**"
   ]
  },
  {
   "cell_type": "code",
   "execution_count": null,
   "id": "7dad32a3-e0a7-4e24-9c11-79f7caa8c4e3",
   "metadata": {},
   "outputs": [],
   "source": [
    "df.plot(y=['Corruption', 'Freedom', 'Generosity', 'Social support'],\n",
    "        kind='box')\n",
    "\n",
    "plt.title('Contoh Box Plot')\n",
    "plt.xlabel('Parameter')\n",
    "plt.ylabel('Nilai')\n",
    "plt.show()"
   ]
  },
  {
   "cell_type": "markdown",
   "id": "fc78051d-3d61-4735-a213-16cc7bb21e63",
   "metadata": {},
   "source": [
    "**Scatter Plot**"
   ]
  },
  {
   "cell_type": "code",
   "execution_count": null,
   "id": "2439d6c0-2ed3-4c61-aaa6-a2ce27c22e13",
   "metadata": {},
   "outputs": [],
   "source": [
    "df.plot(x='Corruption', y='Freedom', kind='scatter')\n",
    "\n",
    "plt.xlim((0,1))\n",
    "plt.ylim((0,1))\n",
    "\n",
    "plt.title('Contoh Scatter Plot')\n",
    "plt.show()"
   ]
  },
  {
   "cell_type": "markdown",
   "id": "3d3c8e15-5df7-4c5d-8550-e7cf8b2ec9ea",
   "metadata": {},
   "source": [
    "**Histogram**"
   ]
  },
  {
   "cell_type": "code",
   "execution_count": null,
   "id": "c8ff353c-6168-4510-9ac8-f8d986f7d3d3",
   "metadata": {},
   "outputs": [],
   "source": [
    "df.plot(x='Country', y='Corruption', kind='hist', bins=10)\n",
    "\n",
    "plt.title('Contoh Histogram')\n",
    "plt.xlabel('Nilai')\n",
    "plt.show()"
   ]
  },
  {
   "cell_type": "code",
   "execution_count": null,
   "id": "4a9497ba-59dd-4604-a031-7570335309fa",
   "metadata": {},
   "outputs": [],
   "source": [
    "df.plot(x='Country',\n",
    "        y=['Corruption', 'Freedom', 'Generosity', 'Social support'],\n",
    "        kind='hist',\n",
    "        subplots=True,\n",
    "        layout=(2, 2))\n",
    "\n",
    "plt.suptitle('Contoh Subplots')\n",
    "plt.tight_layout()\n",
    "plt.show()"
   ]
  }
 ],
 "metadata": {
  "kernelspec": {
   "display_name": "Python 3 (ipykernel)",
   "language": "python",
   "name": "python3"
  },
  "language_info": {
   "codemirror_mode": {
    "name": "ipython",
    "version": 3
   },
   "file_extension": ".py",
   "mimetype": "text/x-python",
   "name": "python",
   "nbconvert_exporter": "python",
   "pygments_lexer": "ipython3",
   "version": "3.12.7"
  }
 },
 "nbformat": 4,
 "nbformat_minor": 5
}
